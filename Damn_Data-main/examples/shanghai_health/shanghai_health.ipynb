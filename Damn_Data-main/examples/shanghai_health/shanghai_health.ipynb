{
 "cells": [
  {
   "cell_type": "code",
   "execution_count": 1,
   "metadata": {},
   "outputs": [],
   "source": [
    "from damndata.damn_geoSpider import geoautonavi, urlgrid"
   ]
  },
  {
   "cell_type": "code",
   "execution_count": null,
   "metadata": {},
   "outputs": [],
   "source": [
    "types = ['090100','090200','090300','090400','090500','090600','080100']\n",
    "geocoor = [121.393341,31.122791,121.608948,31.308944]#bottomleft, topright# 上海\n",
    "url_collection = url_grid.urlcreator_types(types,geocoor,g)"
   ]
  },
  {
   "cell_type": "code",
   "execution_count": null,
   "metadata": {},
   "outputs": [],
   "source": [
    "for typei in types:\n",
    "    for i,url in enumerate(url_collection[typei]):\n",
    "        pois = geoautonavi.getpois(url)\n",
    "        geoautonavi.write_to_csv(pois,typei+'_'+str(i)+'.csv')\n",
    "        print(typei+'_'+str(i),':',url)   "
   ]
  },
  {
   "cell_type": "code",
   "execution_count": null,
   "metadata": {},
   "outputs": [],
   "source": []
  }
 ],
 "metadata": {
  "kernelspec": {
   "display_name": "py36spider",
   "language": "python",
   "name": "py36spider"
  },
  "language_info": {
   "codemirror_mode": {
    "name": "ipython",
    "version": 3
   },
   "file_extension": ".py",
   "mimetype": "text/x-python",
   "name": "python",
   "nbconvert_exporter": "python",
   "pygments_lexer": "ipython3",
   "version": "3.6.12"
  }
 },
 "nbformat": 4,
 "nbformat_minor": 2
}
