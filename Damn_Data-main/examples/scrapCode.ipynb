{
 "cells": [
  {
   "cell_type": "markdown",
   "metadata": {},
   "source": [
    "### 载入环境"
   ]
  },
  {
   "cell_type": "code",
   "execution_count": null,
   "metadata": {},
   "outputs": [],
   "source": [
    "from damndata.damn_geoSpider import geoautonavi as amaPoi\n",
    "import pandas as pd"
   ]
  },
  {
   "cell_type": "markdown",
   "metadata": {},
   "source": [
    "### 参数设置"
   ]
  },
  {
   "cell_type": "markdown",
   "metadata": {},
   "source": [
    "###### 说明**\n",
    "详细文档：         https://lbs.amap.com/api/webservice/guide/api/search \n",
    "\n",
    "http接口：         'resapi.amap.com/v3/place/'\n",
    "\n",
    "检索模式：（地理参数 'geo'）\n",
    "\n",
    "关键字搜索：        'text?'     >>>  'city=' (citycode|adcode)\n",
    "\n",
    "周边搜索：         'around?'    >>>  'location='、'radius='\n",
    "\n",
    "多边形搜索：        'polygon?'   >>>  'polygon=' \n",
    "\n",
    "参数：             key、'geo'、types|keywords"
   ]
  },
  {
   "cell_type": "code",
   "execution_count": null,
   "metadata": {},
   "outputs": [],
   "source": [
    "http      = 'restapi.amap.com/v3/place/around?'\n",
    "key       = 'key=GET_YOUR_KEY_FROM_THIS_WEBSITE: https://lbs.amap.com/api/webservice/guide/api/search'\n",
    "para_loc  = '&location=120.233851,30.167682&radius=800'\n",
    "para_type = '&types=050000|070000|090000|120300|141200|160000|170100|170200'"
   ]
  },
  {
   "cell_type": "markdown",
   "metadata": {},
   "source": [
    "### 爬取"
   ]
  },
  {
   "cell_type": "code",
   "execution_count": null,
   "metadata": {},
   "outputs": [],
   "source": [
    "URL=http+key+para_loc+para_type+'&output=json&offset=25&extensions=all&page='\n",
    "pois=amaPoi.getpois(URL)                                                           #请求数据\n",
    "\n",
    "filePath = 'E:/zixunHUANG/2019-2021_Project/202007_FridaySalonSharing/week200724/test.csv'#设定文件路径\n",
    "amaPoi.write_to_csv(pois,filePath)                                                 #写入本地\n",
    "print('Done!!!')"
   ]
  },
  {
   "cell_type": "markdown",
   "metadata": {},
   "source": [
    "### 读入爬取结果"
   ]
  },
  {
   "cell_type": "code",
   "execution_count": null,
   "metadata": {},
   "outputs": [],
   "source": [
    "df=pd.read_csv(filePath,index_col='Unnamed: 0')\n",
    "df"
   ]
  },
  {
   "cell_type": "markdown",
   "metadata": {},
   "source": [
    "### 定制自己的POI请求程序"
   ]
  },
  {
   "cell_type": "code",
   "execution_count": null,
   "metadata": {},
   "outputs": [],
   "source": [
    "type_list=['050000','060000','070000']"
   ]
  },
  {
   "cell_type": "code",
   "execution_count": null,
   "metadata": {},
   "outputs": [],
   "source": [
    "for i,typei in enumerate(type_list):\n",
    "    print(i,typei)\n",
    "    URL_i=http+key+para_loc+typei+'&output=json&offset=25&extensions=all&page='\n",
    "    pois_i=amaPoi.getpois(URL_i)                                                           \n",
    "\n",
    "    filePath_i = 'E:/zixunHUANG/2019-2021_Project/202007_FridaySalonSharing/week200724/'+str(i).zfill(2)+'.csv'\n",
    "    amaPoi.write_to_csv(pois_i,filePath_i)                                                 \n",
    "    print('Done!!!')"
   ]
  }
 ],
 "metadata": {
  "kernelspec": {
   "display_name": "py36spider",
   "language": "python",
   "name": "py36spider"
  },
  "language_info": {
   "codemirror_mode": {
    "name": "ipython",
    "version": 3
   },
   "file_extension": ".py",
   "mimetype": "text/x-python",
   "name": "python",
   "nbconvert_exporter": "python",
   "pygments_lexer": "ipython3",
   "version": "3.6.12"
  }
 },
 "nbformat": 4,
 "nbformat_minor": 2
}
